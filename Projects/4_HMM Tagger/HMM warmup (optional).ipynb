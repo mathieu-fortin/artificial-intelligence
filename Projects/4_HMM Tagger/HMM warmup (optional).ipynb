{
 "cells": [
  {
   "cell_type": "markdown",
   "metadata": {},
   "source": [
    "# Intro to Hidden Markov Models (optional)\n",
    "---\n",
    "### Introduction\n",
    "\n",
    "In this notebook, you'll use the [Pomegranate](http://pomegranate.readthedocs.io/en/latest/index.html) library to build a simple Hidden Markov Model and explore the Pomegranate API.\n",
    "\n",
    "<div class=\"alert alert-block alert-info\">\n",
    "**Note:** You are not required to complete this notebook and it will not be submitted with your project, but it is designed to quickly introduce the relevant parts of the Pomegranate library that you will need to complete the part of speech tagger.\n",
    "</div>\n",
    "\n",
    "The notebook already contains some code to get you started. You only need to add some new functionality in the areas indicated; you will not need to modify the included code beyond what is requested. Sections that begin with **'IMPLEMENTATION'** in the header indicate that you need to fill in code in the block that follows. Instructions will be provided for each section, and the specifics of the implementation are marked in the code block with a 'TODO' statement. Please be sure to read the instructions carefully!\n",
    "\n",
    "<div class=\"alert alert-block alert-info\">\n",
    "**Note:** Code and Markdown cells can be executed using the `Shift + Enter` keyboard shortcut. Markdown cells can be edited by double-clicking the cell to enter edit mode.\n",
    "</div>\n",
    "<hr>"
   ]
  },
  {
   "cell_type": "markdown",
   "metadata": {},
   "source": [
    "<div class=\"alert alert-block alert-warning\">\n",
    "**Note:** Make sure you have selected a **Python 3** kernel in Workspaces or the hmm-tagger conda environment if you are running the Jupyter server on your own machine.\n",
    "</div>"
   ]
  },
  {
   "cell_type": "code",
   "execution_count": 1,
   "metadata": {},
   "outputs": [],
   "source": [
    "# Jupyter \"magic methods\" -- only need to be run once per kernel restart\n",
    "%load_ext autoreload\n",
    "%aimport helpers\n",
    "%autoreload 1"
   ]
  },
  {
   "cell_type": "code",
   "execution_count": 2,
   "metadata": {},
   "outputs": [],
   "source": [
    "# import python modules -- this cell needs to be run again if you make changes to any of the files\n",
    "import matplotlib.pyplot as plt\n",
    "import numpy as np\n",
    "\n",
    "from helpers import show_model\n",
    "from pomegranate import State, HiddenMarkovModel, DiscreteDistribution"
   ]
  },
  {
   "cell_type": "markdown",
   "metadata": {},
   "source": [
    "## Build a Simple HMM\n",
    "---\n",
    "You will start by building a simple HMM network based on an example from the textbook [Artificial Intelligence: A Modern Approach](http://aima.cs.berkeley.edu/).\n",
    "\n",
    "> You are the security guard stationed at a secret under-ground installation. Each day, you try to guess whether it’s raining today, but your only access to the outside world occurs each morning when you see the director coming in with, or without, an umbrella.\n",
    "\n",
    "A simplified diagram of the required network topology is shown below.\n",
    "\n",
    "![](_example.png)\n",
    "\n",
    "### Describing the Network\n",
    "\n",
    "<div class=\"alert alert-block alert-warning\">\n",
    "$\\lambda = (A, B)$ specifies a Hidden Markov Model in terms of an emission probability distribution $A$ and a state transition probability distribution $B$.\n",
    "</div>\n",
    "\n",
    "HMM networks are parameterized by two distributions: the emission probabilties giving the conditional probability of observing evidence values for each hidden state, and the transition probabilities giving the conditional probability of moving between states during the sequence. Additionally, you can specify an initial distribution describing the probability of a sequence starting in each state.\n",
    "\n",
    "<div class=\"alert alert-block alert-warning\">\n",
    "At each time $t$, $X_t$ represents the hidden state, and $Y_t$ represents an observation at that time.\n",
    "</div>\n",
    "\n",
    "In this problem, $t$ corresponds to each day of the week and the hidden state represent the weather outside (whether it is Rainy or Sunny) and observations record whether the security guard sees the director carrying an umbrella or not.\n",
    "\n",
    "For example, during some particular week the guard may observe an umbrella ['yes', 'no', 'yes', 'no', 'yes'] on Monday-Friday, while the weather outside is ['Rainy', 'Sunny', 'Sunny', 'Sunny', 'Rainy']. In that case, $t=Wednesday$, $Y_{Wednesday}=yes$, and $X_{Wednesday}=Sunny$. (It might be surprising that the guard would observe an umbrella on a sunny day, but it is possible under this type of model.)\n",
    "\n",
    "### Initializing an HMM Network with Pomegranate\n",
    "The Pomegranate library supports [two initialization methods](http://pomegranate.readthedocs.io/en/latest/HiddenMarkovModel.html#initialization). You can either explicitly provide the three distributions, or you can build the network line-by-line. We'll use the line-by-line method for the example network, but you're free to use either method for the part of speech tagger."
   ]
  },
  {
   "cell_type": "code",
   "execution_count": 3,
   "metadata": {},
   "outputs": [],
   "source": [
    "# create the HMM model\n",
    "model = HiddenMarkovModel(name=\"Example Model\")"
   ]
  },
  {
   "cell_type": "markdown",
   "metadata": {},
   "source": [
    "### **IMPLEMENTATION**: Add the Hidden States\n",
    "When the HMM model is specified line-by-line, the object starts as an empty container. The first step is to name each state and attach an emission distribution.\n",
    "\n",
    "#### Observation Emission Probabilities: $P(Y_t | X_t)$\n",
    "We need to assume that we have some prior knowledge (possibly from a data set) about the director's behavior to estimate the emission probabilities for each hidden state. In real problems you can often estimate the emission probabilities empirically, which is what we'll do for the part of speech tagger. Our imaginary data will produce the conditional probability table below. (Note that the rows sum to 1.0)\n",
    "\n",
    "| |  $yes$  | $no$ |\n",
    "| --- | --- | --- |\n",
    "| $Sunny$ |   0.10  | 0.90 |\n",
    "| $Rainy$ | 0.80 | 0.20 |"
   ]
  },
  {
   "cell_type": "code",
   "execution_count": 4,
   "metadata": {},
   "outputs": [
    {
     "output_type": "stream",
     "name": "stdout",
     "text": [
      "Looks good so far!\n"
     ]
    }
   ],
   "source": [
    "# create the HMM model\n",
    "model = HiddenMarkovModel(name=\"Example Model\")\n",
    "\n",
    "# emission probability distributions, P(umbrella | weather)\n",
    "sunny_emissions = DiscreteDistribution({\"yes\": 0.1, \"no\": 0.9})\n",
    "sunny_state = State(sunny_emissions, name=\"Sunny\")\n",
    "\n",
    "# TODO: create a discrete distribution for the rainy emissions from the probability table\n",
    "# above & use that distribution to create a state named Rainy\n",
    "rainy_emissions = DiscreteDistribution({\"yes\": 0.8, \"no\": 0.2})\n",
    "rainy_state = State(rainy_emissions, name=\"Rainy\")\n",
    "\n",
    "# add the states to the model\n",
    "model.add_states(sunny_state, rainy_state)\n",
    "\n",
    "assert rainy_emissions.probability(\"yes\") == 0.8, \"The director brings his umbrella with probability 0.8 on rainy days\"\n",
    "print(\"Looks good so far!\")"
   ]
  },
  {
   "cell_type": "markdown",
   "metadata": {},
   "source": [
    "### **IMPLEMENTATION:** Adding Transitions\n",
    "Once the states are added to the model, we can build up the desired topology of individual state transitions.\n",
    "\n",
    "#### Initial Probability $P(X_0)$:\n",
    "We will assume that we don't know anything useful about the likelihood of a sequence starting in either state. If the sequences start each week on Monday and end each week on Friday (so each week is a new sequence), then this assumption means that it's equally likely that the weather on a Monday may be Rainy or Sunny. We can assign equal probability to each starting state by setting $P(X_0=Rainy) = 0.5$ and $P(X_0=Sunny)=0.5$:\n",
    "\n",
    "| $Sunny$ | $Rainy$ |\n",
    "| --- | ---\n",
    "| 0.5 | 0.5 |\n",
    "\n",
    "#### State transition probabilities $P(X_{t} | X_{t-1})$\n",
    "Finally, we will assume for this example that we can estimate transition probabilities from something like historical weather data for the area. In real problems you can often use the structure of the problem (like a language grammar) to impose restrictions on the transition probabilities, then re-estimate the parameters with the same training data used to estimate the emission probabilities. Under this assumption, we get the conditional probability table below. (Note that the rows sum to 1.0)\n",
    "\n",
    "| | $Sunny$ | $Rainy$ |\n",
    "| --- | --- | --- |\n",
    "|$Sunny$| 0.80 | 0.20 |\n",
    "|$Rainy$| 0.40 | 0.60 |"
   ]
  },
  {
   "cell_type": "code",
   "execution_count": 5,
   "metadata": {},
   "outputs": [
    {
     "output_type": "stream",
     "name": "stdout",
     "text": [
      "Great! You've finished the model.\n"
     ]
    }
   ],
   "source": [
    "# create edges for each possible state transition in the model\n",
    "# equal probability of a sequence starting on either a rainy or sunny day\n",
    "model.add_transition(model.start, sunny_state, 0.5)\n",
    "model.add_transition(model.start, rainy_state, 0.5)\n",
    "\n",
    "# add sunny day transitions (we already know estimates of these probabilities\n",
    "# from the problem statement)\n",
    "model.add_transition(sunny_state, sunny_state, 0.8)  # 80% sunny->sunny\n",
    "model.add_transition(sunny_state, rainy_state, 0.2)  # 20% sunny->rainy\n",
    "\n",
    "# TODO: add rainy day transitions using the probabilities specified in the transition table\n",
    "model.add_transition(rainy_state, sunny_state, 0.4)  # 40% rainy->sunny\n",
    "model.add_transition(rainy_state, rainy_state, 0.6)  # 60% rainy->rainy\n",
    "\n",
    "# finally, call the .bake() method to finalize the model\n",
    "model.bake()\n",
    "\n",
    "assert model.edge_count() == 6, \"There should be two edges from model.start, two from Rainy, and two from Sunny\"\n",
    "assert model.node_count() == 4, \"The states should include model.start, model.end, Rainy, and Sunny\"\n",
    "print(\"Great! You've finished the model.\")"
   ]
  },
  {
   "cell_type": "markdown",
   "metadata": {},
   "source": [
    "## Visualize the Network\n",
    "---\n",
    "We have provided a helper function called `show_model()` that generates a PNG image from a Pomegranate HMM network. You can specify an optional filename to save the file to disk. Setting the \"show_ends\" argument True will add the model start & end states that are included in every Pomegranate network."
   ]
  },
  {
   "cell_type": "code",
   "execution_count": 6,
   "metadata": {},
   "outputs": [],
   "source": [
    "import os\n",
    "os.environ[\"PATH\"] += os.pathsep + 'C:/Program Files (x86)/Graphviz2.38/bin/'"
   ]
  },
  {
   "cell_type": "code",
   "execution_count": 7,
   "metadata": {},
   "outputs": [
    {
     "output_type": "stream",
     "name": "stdout",
     "text": [
      "C:\\Users\\mathieu\\Miniconda3\\envs\\deeprl\\Library\\bin\\dot.bat\nC:\\Program Files (x86)\\Graphviz2.38\\bin\\dot.exe\n"
     ]
    }
   ],
   "source": [
    "!where dot"
   ]
  },
  {
   "cell_type": "code",
   "execution_count": 8,
   "metadata": {},
   "outputs": [
    {
     "output_type": "display_data",
     "data": {
      "text/plain": "<Figure size 360x360 with 1 Axes>",
      "image/svg+xml": "<?xml version=\"1.0\" encoding=\"utf-8\" standalone=\"no\"?>\r\n<!DOCTYPE svg PUBLIC \"-//W3C//DTD SVG 1.1//EN\"\r\n  \"http://www.w3.org/Graphics/SVG/1.1/DTD/svg11.dtd\">\r\n<!-- Created with matplotlib (https://matplotlib.org/) -->\r\n<svg height=\"113.361538pt\" version=\"1.1\" viewBox=\"0 0 293.4 113.361538\" width=\"293.4pt\" xmlns=\"http://www.w3.org/2000/svg\" xmlns:xlink=\"http://www.w3.org/1999/xlink\">\r\n <defs>\r\n  <style type=\"text/css\">\r\n*{stroke-linecap:butt;stroke-linejoin:round;}\r\n  </style>\r\n </defs>\r\n <g id=\"figure_1\">\r\n  <g id=\"patch_1\">\r\n   <path d=\"M 0 113.361538 \r\nL 293.4 113.361538 \r\nL 293.4 0 \r\nL 0 0 \r\nz\r\n\" style=\"fill:none;\"/>\r\n  </g>\r\n  <g id=\"axes_1\">\r\n   <g clip-path=\"url(#pcd5f6d8e6a)\">\r\n    <image height=\"99\" id=\"image7633398f1e\" transform=\"scale(1 -1)translate(0 -99)\" width=\"279\" x=\"7.2\" xlink:href=\"data:image/png;base64,\r\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\" y=\"-7.161538\"/>\r\n   </g>\r\n  </g>\r\n </g>\r\n <defs>\r\n  <clipPath id=\"pcd5f6d8e6a\">\r\n   <rect height=\"98.961538\" width=\"279\" x=\"7.2\" y=\"7.2\"/>\r\n  </clipPath>\r\n </defs>\r\n</svg>\r\n",
      "image/png": "[encoded data removed]"
     },
     "metadata": {
      "needs_background": "light"
     }
    }
   ],
   "source": [
    "show_model(model, figsize=(5, 5), filename=\"_example1.png\", overwrite=True, show_ends=False)"
   ]
  },
  {
   "cell_type": "markdown",
   "metadata": {},
   "source": [
    "### Checking the Model\n",
    "The states of the model can be accessed using array syntax on the `HMM.states` attribute, and the transition matrix can be accessed by calling `HMM.dense_transition_matrix()`. Element $(i, j)$ encodes the probability of transitioning from state $i$ to state $j$. For example, with the default column order specified, element $(2, 1)$ gives the probability of transitioning from \"Rainy\" to \"Sunny\", which we specified as 0.4.\n",
    "\n",
    "Run the next cell to inspect the full state transition matrix, then read the . "
   ]
  },
  {
   "cell_type": "code",
   "execution_count": 9,
   "metadata": {},
   "outputs": [
    {
     "output_type": "stream",
     "name": "stdout",
     "text": [
      "The state transition matrix, P(Xt|Xt-1):\n\n[[0.  0.5 0.5 0. ]\n [0.  0.8 0.2 0. ]\n [0.  0.4 0.6 0. ]\n [0.  0.  0.  0. ]]\n\nThe transition probability from Rainy to Sunny is 40%\n"
     ]
    }
   ],
   "source": [
    "column_order = [\"Example Model-start\", \"Sunny\", \"Rainy\", \"Example Model-end\"]  # Override the Pomegranate default order\n",
    "column_names = [s.name for s in model.states]\n",
    "order_index = [column_names.index(c) for c in column_order]\n",
    "\n",
    "# re-order the rows/columns to match the specified column order\n",
    "transitions = model.dense_transition_matrix()[:, order_index][order_index, :]\n",
    "print(\"The state transition matrix, P(Xt|Xt-1):\\n\")\n",
    "print(transitions)\n",
    "print(\"\\nThe transition probability from Rainy to Sunny is {:.0f}%\".format(100 * transitions[2, 1]))"
   ]
  },
  {
   "cell_type": "markdown",
   "metadata": {},
   "source": [
    "## Inference in Hidden Markov Models\n",
    "---\n",
    "Before moving on, we'll use this simple network to quickly go over the Pomegranate API to perform the three most common HMM tasks:\n",
    "\n",
    "<div class=\"alert alert-block alert-info\">\n",
    "**Likelihood Evaluation**<br>\n",
    "Given a model $\\lambda=(A,B)$ and a set of observations $Y$, determine $P(Y|\\lambda)$, the likelihood of observing that sequence from the model\n",
    "</div>\n",
    "\n",
    "We can use the weather prediction model to evaluate the likelihood of the sequence [yes, yes, yes, yes, yes] (or any other state sequence). The likelihood is often used in problems like machine translation to weight interpretations in conjunction with a statistical language model.\n",
    "\n",
    "<div class=\"alert alert-block alert-info\">\n",
    "**Hidden State Decoding**<br>\n",
    "Given a model $\\lambda=(A,B)$ and a set of observations $Y$, determine $Q$, the most likely sequence of hidden states in the model to produce the observations\n",
    "</div>\n",
    "\n",
    "We can use the weather prediction model to determine the most likely sequence of Rainy/Sunny states for a known observation sequence, like [yes, no] -> [Rainy, Sunny]. We will use decoding in the part of speech tagger to determine the tag for each word of a sentence. The decoding can be further split into \"smoothing\" when we want to calculate past states, \"filtering\" when we want to calculate the current state, or \"prediction\" if we want to calculate future states. \n",
    "\n",
    "<div class=\"alert alert-block alert-info\">\n",
    "**Parameter Learning**<br>\n",
    "Given a model topography (set of states and connections) and a set of observations $Y$, learn the transition probabilities $A$ and emission probabilities $B$ of the model, $\\lambda=(A,B)$\n",
    "</div>\n",
    "\n",
    "We don't need to learn the model parameters for the weather problem or POS tagging, but it is supported by Pomegranate.\n",
    "\n",
    "### IMPLEMENTATION: Calculate Sequence Likelihood\n",
    "\n",
    "Calculating the likelihood of an observation sequence from an HMM network is performed with the [forward algorithm](https://en.wikipedia.org/wiki/Forward_algorithm). Pomegranate provides the the `HMM.forward()` method to calculate the full matrix showing the likelihood of aligning each observation to each state in the HMM, and the `HMM.log_probability()` method to calculate the cumulative likelihood over all possible hidden state paths that the specified model generated the observation sequence.\n",
    "\n",
    "Fill in the code in the next section with a sample observation sequence and then use the `forward()` and `log_probability()` methods to evaluate the sequence."
   ]
  },
  {
   "cell_type": "code",
   "execution_count": 10,
   "metadata": {},
   "outputs": [
    {
     "output_type": "stream",
     "name": "stdout",
     "text": [
      "            Rainy      Sunny      Example Model-start      Example Model-end   \n <start>      0%         0%               100%                     0%          \n   yes       40%         5%                0%                      0%          \n    no        5%        18%                0%                      0%          \n   yes        5%         2%                0%                      0%          \n\nThe likelihood over all possible paths of this model producing the sequence ['yes', 'no', 'yes'] is 6.92%\n\n\n"
     ]
    }
   ],
   "source": [
    "# TODO: input a sequence of 'yes'/'no' values in the list below for testing\n",
    "observations = ['yes', 'no', 'yes']\n",
    "\n",
    "assert len(observations) > 0, \"You need to choose a sequence of 'yes'/'no' observations to test\"\n",
    "\n",
    "# TODO: use model.forward() to calculate the forward matrix of the observed sequence,\n",
    "# and then use np.exp() to convert from log-likelihood to likelihood\n",
    "forward_matrix = np.exp(model.forward(observations))\n",
    "\n",
    "# TODO: use model.log_probability() to calculate the all-paths likelihood of the\n",
    "# observed sequence and then use np.exp() to convert log-likelihood to likelihood\n",
    "probability_percentage = np.exp(model.log_probability(observations))\n",
    "\n",
    "# Display the forward probabilities\n",
    "print(\"         \" + \"\".join(s.name.center(len(s.name)+6) for s in model.states))\n",
    "for i in range(len(observations) + 1):\n",
    "    print(\" <start> \" if i==0 else observations[i - 1].center(9), end=\"\")\n",
    "    print(\"\".join(\"{:.0f}%\".format(100 * forward_matrix[i, j]).center(len(s.name) + 6)\n",
    "                  for j, s in enumerate(model.states)))\n",
    "\n",
    "print(\"\\nThe likelihood over all possible paths \" + \\\n",
    "      \"of this model producing the sequence {} is {:.2f}%\\n\\n\"\n",
    "      .format(observations, 100 * probability_percentage))"
   ]
  },
  {
   "cell_type": "markdown",
   "metadata": {},
   "source": [
    "### IMPLEMENTATION: Decoding the Most Likely Hidden State Sequence\n",
    "\n",
    "The [Viterbi algorithm](https://en.wikipedia.org/wiki/Viterbi_algorithm) calculates the single path with the highest likelihood to produce a specific observation sequence. Pomegranate provides the `HMM.viterbi()` method to calculate both the hidden state sequence and the corresponding likelihood of the viterbi path.\n",
    "\n",
    "This is called \"decoding\" because we use the observation sequence to decode the corresponding hidden state sequence. In the part of speech tagging problem, the hidden states map to parts of speech and the observations map to sentences. Given a sentence, Viterbi decoding finds the most likely sequence of part of speech tags corresponding to the sentence.\n",
    "\n",
    "Fill in the code in the next section with the same sample observation sequence you used above, and then use the `model.viterbi()` method to calculate the likelihood and most likely state sequence. Compare the Viterbi likelihood against the forward algorithm likelihood for the observation sequence."
   ]
  },
  {
   "cell_type": "code",
   "execution_count": 11,
   "metadata": {},
   "outputs": [
    {
     "output_type": "stream",
     "name": "stdout",
     "text": [
      "The most likely weather sequence to have generated these observations is ['Rainy', 'Sunny', 'Rainy'] at 2.30%.\n"
     ]
    }
   ],
   "source": [
    "# TODO: input a sequence of 'yes'/'no' values in the list below for testing\n",
    "observations = ['yes', 'no', 'yes']\n",
    "\n",
    "# TODO: use model.viterbi to find the sequence likelihood & the most likely path\n",
    "viterbi_likelihood, viterbi_path = model.viterbi(observations)\n",
    "\n",
    "print(\"The most likely weather sequence to have generated \" + \\\n",
    "      \"these observations is {} at {:.2f}%.\"\n",
    "      .format([s[1].name for s in viterbi_path[1:]], np.exp(viterbi_likelihood)*100)\n",
    ")"
   ]
  },
  {
   "cell_type": "markdown",
   "metadata": {},
   "source": [
    "### Forward likelihood vs Viterbi likelihood\n",
    "Run the cells below to see the likelihood of each sequence of observations with length 3, and compare with the viterbi path."
   ]
  },
  {
   "cell_type": "code",
   "execution_count": 12,
   "metadata": {},
   "outputs": [
    {
     "output_type": "stream",
     "name": "stdout",
     "text": [
      "The likelihood of observing ['no', 'no', 'yes'] if the weather sequence is...\n\t('Sunny', 'Sunny', 'Sunny') is 2.59% \n\t('Sunny', 'Sunny', 'Rainy') is 5.18%  <-- Viterbi path\n\t('Sunny', 'Rainy', 'Sunny') is 0.07% \n\t('Sunny', 'Rainy', 'Rainy') is 0.86% \n\t('Rainy', 'Sunny', 'Sunny') is 0.29% \n\t('Rainy', 'Sunny', 'Rainy') is 0.58% \n\t('Rainy', 'Rainy', 'Sunny') is 0.05% \n\t('Rainy', 'Rainy', 'Rainy') is 0.58% \n\nThe total likelihood of observing ['no', 'no', 'yes'] over all possible paths is 10.20%\n"
     ]
    }
   ],
   "source": [
    "from itertools import product\n",
    "\n",
    "observations = ['no', 'no', 'yes']\n",
    "\n",
    "p = {'Sunny': {'Sunny': np.log(.8), 'Rainy': np.log(.2)}, 'Rainy': {'Sunny': np.log(.4), 'Rainy': np.log(.6)}}\n",
    "e = {'Sunny': {'yes': np.log(.1), 'no': np.log(.9)}, 'Rainy':{'yes':np.log(.8), 'no':np.log(.2)}}\n",
    "o = observations\n",
    "k = []\n",
    "vprob = np.exp(model.viterbi(o)[0])\n",
    "print(\"The likelihood of observing {} if the weather sequence is...\".format(o))\n",
    "for s in product(*[['Sunny', 'Rainy']]*3):\n",
    "    k.append(np.exp(np.log(.5)+e[s[0]][o[0]] + p[s[0]][s[1]] + e[s[1]][o[1]] + p[s[1]][s[2]] + e[s[2]][o[2]]))\n",
    "    print(\"\\t{} is {:.2f}% {}\".format(s, 100 * k[-1], \" <-- Viterbi path\" if k[-1] == vprob else \"\"))\n",
    "print(\"\\nThe total likelihood of observing {} over all possible paths is {:.2f}%\".format(o, 100*sum(k)))"
   ]
  },
  {
   "cell_type": "code",
   "execution_count": 13,
   "metadata": {},
   "outputs": [
    {
     "output_type": "stream",
     "name": "stdout",
     "text": [
      "The most likely weather sequence to have generated these observations is ['Sunny', 'Sunny', 'Rainy'] at 5.18%.\n"
     ]
    }
   ],
   "source": [
    "# TODO: input a sequence of 'yes'/'no' values in the list below for testing\n",
    "observations = ['no', 'no', 'yes']\n",
    "\n",
    "# TODO: use model.viterbi to find the sequence likelihood & the most likely path\n",
    "viterbi_likelihood, viterbi_path = model.viterbi(observations)\n",
    "\n",
    "print(\"The most likely weather sequence to have generated \" + \\\n",
    "      \"these observations is {} at {:.2f}%.\"\n",
    "      .format([s[1].name for s in viterbi_path[1:]], np.exp(viterbi_likelihood)*100)\n",
    ")"
   ]
  },
  {
   "cell_type": "markdown",
   "metadata": {},
   "source": [
    "### Congratulations!\n",
    "You've now finished the HMM warmup. You should have all the tools you need to complete the part of speech tagger project."
   ]
  }
 ],
 "metadata": {
  "kernelspec": {
   "display_name": "deeprl",
   "language": "python",
   "name": "deeprl"
  },
  "language_info": {
   "codemirror_mode": {
    "name": "ipython",
    "version": 3
   },
   "file_extension": ".py",
   "mimetype": "text/x-python",
   "name": "python",
   "nbconvert_exporter": "python",
   "pygments_lexer": "ipython3",
   "version": "3.6.10-final"
  }
 },
 "nbformat": 4,
 "nbformat_minor": 2
}